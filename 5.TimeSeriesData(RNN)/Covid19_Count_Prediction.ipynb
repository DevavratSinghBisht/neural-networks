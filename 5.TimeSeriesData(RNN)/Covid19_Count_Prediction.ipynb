{
  "nbformat": 4,
  "nbformat_minor": 0,
  "metadata": {
    "colab": {
      "name": "Covid19 Count Prediction.ipynb",
      "provenance": [],
      "collapsed_sections": []
    },
    "kernelspec": {
      "name": "python3",
      "display_name": "Python 3"
    },
    "accelerator": "GPU"
  },
  "cells": [
    {
      "cell_type": "markdown",
      "metadata": {
        "id": "S6ZxjAKXZE5b"
      },
      "source": [
        "# Covid19 Count Prediction"
      ]
    },
    {
      "cell_type": "markdown",
      "metadata": {
        "id": "3wBTQEuxZGmT"
      },
      "source": [
        "In this note book we will learn how to make predictions using time series data.\r\n",
        "\r\n",
        "We are going to predict the number of covid cases for few days."
      ]
    },
    {
      "cell_type": "markdown",
      "metadata": {
        "id": "PZuemjyoaXmC"
      },
      "source": [
        "## Importing Libraries"
      ]
    },
    {
      "cell_type": "code",
      "metadata": {
        "id": "wX8CXQiKaU1c"
      },
      "source": [
        "\"\"\"\r\n",
        "@author: Devavrat Singh Bisht\r\n",
        "Data: https://github.com/CSSEGISandData/COVID-19/blob/master/csse_covid_19_data/csse_covid_19_time_series/time_series_covid19_confirmed_global.csv\r\n",
        "\"\"\"\r\n",
        "\r\n",
        "import pandas as pd\r\n",
        "import numpy as np\r\n",
        "import matplotlib.pyplot as plt"
      ],
      "execution_count": 1,
      "outputs": []
    },
    {
      "cell_type": "markdown",
      "metadata": {
        "id": "6fuJaEFaabTu"
      },
      "source": [
        "## Reading Dataset"
      ]
    },
    {
      "cell_type": "code",
      "metadata": {
        "id": "O0A4K7DIahot"
      },
      "source": [
        "df = pd.read_csv(\"https://raw.githubusercontent.com/CSSEGISandData/COVID-19/master/csse_covid_19_data/csse_covid_19_time_series/time_series_covid19_confirmed_global.csv\")"
      ],
      "execution_count": 2,
      "outputs": []
    },
    {
      "cell_type": "markdown",
      "metadata": {
        "id": "_AcRtRgVboFd"
      },
      "source": [
        "## Data Preprocessing"
      ]
    },
    {
      "cell_type": "markdown",
      "metadata": {
        "id": "UVUrQD90om83"
      },
      "source": [
        "### Extracting data for particular country"
      ]
    },
    {
      "cell_type": "code",
      "metadata": {
        "colab": {
          "base_uri": "https://localhost:8080/",
          "height": 244
        },
        "id": "2qsLpkwzb0Mc",
        "outputId": "1f75aef3-7e58-46cd-fc58-76a218e7bfe8"
      },
      "source": [
        "df.head()"
      ],
      "execution_count": 3,
      "outputs": [
        {
          "output_type": "execute_result",
          "data": {
            "text/html": [
              "<div>\n",
              "<style scoped>\n",
              "    .dataframe tbody tr th:only-of-type {\n",
              "        vertical-align: middle;\n",
              "    }\n",
              "\n",
              "    .dataframe tbody tr th {\n",
              "        vertical-align: top;\n",
              "    }\n",
              "\n",
              "    .dataframe thead th {\n",
              "        text-align: right;\n",
              "    }\n",
              "</style>\n",
              "<table border=\"1\" class=\"dataframe\">\n",
              "  <thead>\n",
              "    <tr style=\"text-align: right;\">\n",
              "      <th></th>\n",
              "      <th>Province/State</th>\n",
              "      <th>Country/Region</th>\n",
              "      <th>Lat</th>\n",
              "      <th>Long</th>\n",
              "      <th>1/22/20</th>\n",
              "      <th>1/23/20</th>\n",
              "      <th>1/24/20</th>\n",
              "      <th>1/25/20</th>\n",
              "      <th>1/26/20</th>\n",
              "      <th>1/27/20</th>\n",
              "      <th>1/28/20</th>\n",
              "      <th>1/29/20</th>\n",
              "      <th>1/30/20</th>\n",
              "      <th>1/31/20</th>\n",
              "      <th>2/1/20</th>\n",
              "      <th>2/2/20</th>\n",
              "      <th>2/3/20</th>\n",
              "      <th>2/4/20</th>\n",
              "      <th>2/5/20</th>\n",
              "      <th>2/6/20</th>\n",
              "      <th>2/7/20</th>\n",
              "      <th>2/8/20</th>\n",
              "      <th>2/9/20</th>\n",
              "      <th>2/10/20</th>\n",
              "      <th>2/11/20</th>\n",
              "      <th>2/12/20</th>\n",
              "      <th>2/13/20</th>\n",
              "      <th>2/14/20</th>\n",
              "      <th>2/15/20</th>\n",
              "      <th>2/16/20</th>\n",
              "      <th>2/17/20</th>\n",
              "      <th>2/18/20</th>\n",
              "      <th>2/19/20</th>\n",
              "      <th>2/20/20</th>\n",
              "      <th>2/21/20</th>\n",
              "      <th>2/22/20</th>\n",
              "      <th>2/23/20</th>\n",
              "      <th>2/24/20</th>\n",
              "      <th>2/25/20</th>\n",
              "      <th>2/26/20</th>\n",
              "      <th>...</th>\n",
              "      <th>11/29/20</th>\n",
              "      <th>11/30/20</th>\n",
              "      <th>12/1/20</th>\n",
              "      <th>12/2/20</th>\n",
              "      <th>12/3/20</th>\n",
              "      <th>12/4/20</th>\n",
              "      <th>12/5/20</th>\n",
              "      <th>12/6/20</th>\n",
              "      <th>12/7/20</th>\n",
              "      <th>12/8/20</th>\n",
              "      <th>12/9/20</th>\n",
              "      <th>12/10/20</th>\n",
              "      <th>12/11/20</th>\n",
              "      <th>12/12/20</th>\n",
              "      <th>12/13/20</th>\n",
              "      <th>12/14/20</th>\n",
              "      <th>12/15/20</th>\n",
              "      <th>12/16/20</th>\n",
              "      <th>12/17/20</th>\n",
              "      <th>12/18/20</th>\n",
              "      <th>12/19/20</th>\n",
              "      <th>12/20/20</th>\n",
              "      <th>12/21/20</th>\n",
              "      <th>12/22/20</th>\n",
              "      <th>12/23/20</th>\n",
              "      <th>12/24/20</th>\n",
              "      <th>12/25/20</th>\n",
              "      <th>12/26/20</th>\n",
              "      <th>12/27/20</th>\n",
              "      <th>12/28/20</th>\n",
              "      <th>12/29/20</th>\n",
              "      <th>12/30/20</th>\n",
              "      <th>12/31/20</th>\n",
              "      <th>1/1/21</th>\n",
              "      <th>1/2/21</th>\n",
              "      <th>1/3/21</th>\n",
              "      <th>1/4/21</th>\n",
              "      <th>1/5/21</th>\n",
              "      <th>1/6/21</th>\n",
              "      <th>1/7/21</th>\n",
              "    </tr>\n",
              "  </thead>\n",
              "  <tbody>\n",
              "    <tr>\n",
              "      <th>0</th>\n",
              "      <td>NaN</td>\n",
              "      <td>Afghanistan</td>\n",
              "      <td>33.93911</td>\n",
              "      <td>67.709953</td>\n",
              "      <td>0</td>\n",
              "      <td>0</td>\n",
              "      <td>0</td>\n",
              "      <td>0</td>\n",
              "      <td>0</td>\n",
              "      <td>0</td>\n",
              "      <td>0</td>\n",
              "      <td>0</td>\n",
              "      <td>0</td>\n",
              "      <td>0</td>\n",
              "      <td>0</td>\n",
              "      <td>0</td>\n",
              "      <td>0</td>\n",
              "      <td>0</td>\n",
              "      <td>0</td>\n",
              "      <td>0</td>\n",
              "      <td>0</td>\n",
              "      <td>0</td>\n",
              "      <td>0</td>\n",
              "      <td>0</td>\n",
              "      <td>0</td>\n",
              "      <td>0</td>\n",
              "      <td>0</td>\n",
              "      <td>0</td>\n",
              "      <td>0</td>\n",
              "      <td>0</td>\n",
              "      <td>0</td>\n",
              "      <td>0</td>\n",
              "      <td>0</td>\n",
              "      <td>0</td>\n",
              "      <td>0</td>\n",
              "      <td>0</td>\n",
              "      <td>0</td>\n",
              "      <td>1</td>\n",
              "      <td>1</td>\n",
              "      <td>1</td>\n",
              "      <td>...</td>\n",
              "      <td>46116</td>\n",
              "      <td>46274</td>\n",
              "      <td>46516</td>\n",
              "      <td>46718</td>\n",
              "      <td>46837</td>\n",
              "      <td>46837</td>\n",
              "      <td>47072</td>\n",
              "      <td>47306</td>\n",
              "      <td>47516</td>\n",
              "      <td>47716</td>\n",
              "      <td>47851</td>\n",
              "      <td>48053</td>\n",
              "      <td>48116</td>\n",
              "      <td>48229</td>\n",
              "      <td>48527</td>\n",
              "      <td>48718</td>\n",
              "      <td>48952</td>\n",
              "      <td>49161</td>\n",
              "      <td>49378</td>\n",
              "      <td>49621</td>\n",
              "      <td>49681</td>\n",
              "      <td>49817</td>\n",
              "      <td>50013</td>\n",
              "      <td>50190</td>\n",
              "      <td>50433</td>\n",
              "      <td>50655</td>\n",
              "      <td>50810</td>\n",
              "      <td>50886</td>\n",
              "      <td>51039</td>\n",
              "      <td>51280</td>\n",
              "      <td>51350</td>\n",
              "      <td>51405</td>\n",
              "      <td>51526</td>\n",
              "      <td>51526</td>\n",
              "      <td>51526</td>\n",
              "      <td>51526</td>\n",
              "      <td>53011</td>\n",
              "      <td>53105</td>\n",
              "      <td>53105</td>\n",
              "      <td>53207</td>\n",
              "    </tr>\n",
              "    <tr>\n",
              "      <th>1</th>\n",
              "      <td>NaN</td>\n",
              "      <td>Albania</td>\n",
              "      <td>41.15330</td>\n",
              "      <td>20.168300</td>\n",
              "      <td>0</td>\n",
              "      <td>0</td>\n",
              "      <td>0</td>\n",
              "      <td>0</td>\n",
              "      <td>0</td>\n",
              "      <td>0</td>\n",
              "      <td>0</td>\n",
              "      <td>0</td>\n",
              "      <td>0</td>\n",
              "      <td>0</td>\n",
              "      <td>0</td>\n",
              "      <td>0</td>\n",
              "      <td>0</td>\n",
              "      <td>0</td>\n",
              "      <td>0</td>\n",
              "      <td>0</td>\n",
              "      <td>0</td>\n",
              "      <td>0</td>\n",
              "      <td>0</td>\n",
              "      <td>0</td>\n",
              "      <td>0</td>\n",
              "      <td>0</td>\n",
              "      <td>0</td>\n",
              "      <td>0</td>\n",
              "      <td>0</td>\n",
              "      <td>0</td>\n",
              "      <td>0</td>\n",
              "      <td>0</td>\n",
              "      <td>0</td>\n",
              "      <td>0</td>\n",
              "      <td>0</td>\n",
              "      <td>0</td>\n",
              "      <td>0</td>\n",
              "      <td>0</td>\n",
              "      <td>0</td>\n",
              "      <td>0</td>\n",
              "      <td>...</td>\n",
              "      <td>37625</td>\n",
              "      <td>38182</td>\n",
              "      <td>39014</td>\n",
              "      <td>39719</td>\n",
              "      <td>40501</td>\n",
              "      <td>41302</td>\n",
              "      <td>42148</td>\n",
              "      <td>42988</td>\n",
              "      <td>43683</td>\n",
              "      <td>44436</td>\n",
              "      <td>45188</td>\n",
              "      <td>46061</td>\n",
              "      <td>46863</td>\n",
              "      <td>47742</td>\n",
              "      <td>48530</td>\n",
              "      <td>49191</td>\n",
              "      <td>50000</td>\n",
              "      <td>50637</td>\n",
              "      <td>51424</td>\n",
              "      <td>52004</td>\n",
              "      <td>52542</td>\n",
              "      <td>53003</td>\n",
              "      <td>53425</td>\n",
              "      <td>53814</td>\n",
              "      <td>54317</td>\n",
              "      <td>54827</td>\n",
              "      <td>55380</td>\n",
              "      <td>55755</td>\n",
              "      <td>56254</td>\n",
              "      <td>56572</td>\n",
              "      <td>57146</td>\n",
              "      <td>57727</td>\n",
              "      <td>58316</td>\n",
              "      <td>58316</td>\n",
              "      <td>58991</td>\n",
              "      <td>59438</td>\n",
              "      <td>59623</td>\n",
              "      <td>60283</td>\n",
              "      <td>61008</td>\n",
              "      <td>61705</td>\n",
              "    </tr>\n",
              "    <tr>\n",
              "      <th>2</th>\n",
              "      <td>NaN</td>\n",
              "      <td>Algeria</td>\n",
              "      <td>28.03390</td>\n",
              "      <td>1.659600</td>\n",
              "      <td>0</td>\n",
              "      <td>0</td>\n",
              "      <td>0</td>\n",
              "      <td>0</td>\n",
              "      <td>0</td>\n",
              "      <td>0</td>\n",
              "      <td>0</td>\n",
              "      <td>0</td>\n",
              "      <td>0</td>\n",
              "      <td>0</td>\n",
              "      <td>0</td>\n",
              "      <td>0</td>\n",
              "      <td>0</td>\n",
              "      <td>0</td>\n",
              "      <td>0</td>\n",
              "      <td>0</td>\n",
              "      <td>0</td>\n",
              "      <td>0</td>\n",
              "      <td>0</td>\n",
              "      <td>0</td>\n",
              "      <td>0</td>\n",
              "      <td>0</td>\n",
              "      <td>0</td>\n",
              "      <td>0</td>\n",
              "      <td>0</td>\n",
              "      <td>0</td>\n",
              "      <td>0</td>\n",
              "      <td>0</td>\n",
              "      <td>0</td>\n",
              "      <td>0</td>\n",
              "      <td>0</td>\n",
              "      <td>0</td>\n",
              "      <td>0</td>\n",
              "      <td>0</td>\n",
              "      <td>1</td>\n",
              "      <td>1</td>\n",
              "      <td>...</td>\n",
              "      <td>82221</td>\n",
              "      <td>83199</td>\n",
              "      <td>84152</td>\n",
              "      <td>85084</td>\n",
              "      <td>85927</td>\n",
              "      <td>86730</td>\n",
              "      <td>87502</td>\n",
              "      <td>88252</td>\n",
              "      <td>88825</td>\n",
              "      <td>89416</td>\n",
              "      <td>90014</td>\n",
              "      <td>90579</td>\n",
              "      <td>91121</td>\n",
              "      <td>91638</td>\n",
              "      <td>92102</td>\n",
              "      <td>92597</td>\n",
              "      <td>93065</td>\n",
              "      <td>93507</td>\n",
              "      <td>93933</td>\n",
              "      <td>94371</td>\n",
              "      <td>94781</td>\n",
              "      <td>95203</td>\n",
              "      <td>95659</td>\n",
              "      <td>96069</td>\n",
              "      <td>96549</td>\n",
              "      <td>97007</td>\n",
              "      <td>97441</td>\n",
              "      <td>97857</td>\n",
              "      <td>98249</td>\n",
              "      <td>98631</td>\n",
              "      <td>98988</td>\n",
              "      <td>99311</td>\n",
              "      <td>99610</td>\n",
              "      <td>99897</td>\n",
              "      <td>100159</td>\n",
              "      <td>100408</td>\n",
              "      <td>100645</td>\n",
              "      <td>100873</td>\n",
              "      <td>101120</td>\n",
              "      <td>101382</td>\n",
              "    </tr>\n",
              "    <tr>\n",
              "      <th>3</th>\n",
              "      <td>NaN</td>\n",
              "      <td>Andorra</td>\n",
              "      <td>42.50630</td>\n",
              "      <td>1.521800</td>\n",
              "      <td>0</td>\n",
              "      <td>0</td>\n",
              "      <td>0</td>\n",
              "      <td>0</td>\n",
              "      <td>0</td>\n",
              "      <td>0</td>\n",
              "      <td>0</td>\n",
              "      <td>0</td>\n",
              "      <td>0</td>\n",
              "      <td>0</td>\n",
              "      <td>0</td>\n",
              "      <td>0</td>\n",
              "      <td>0</td>\n",
              "      <td>0</td>\n",
              "      <td>0</td>\n",
              "      <td>0</td>\n",
              "      <td>0</td>\n",
              "      <td>0</td>\n",
              "      <td>0</td>\n",
              "      <td>0</td>\n",
              "      <td>0</td>\n",
              "      <td>0</td>\n",
              "      <td>0</td>\n",
              "      <td>0</td>\n",
              "      <td>0</td>\n",
              "      <td>0</td>\n",
              "      <td>0</td>\n",
              "      <td>0</td>\n",
              "      <td>0</td>\n",
              "      <td>0</td>\n",
              "      <td>0</td>\n",
              "      <td>0</td>\n",
              "      <td>0</td>\n",
              "      <td>0</td>\n",
              "      <td>0</td>\n",
              "      <td>0</td>\n",
              "      <td>...</td>\n",
              "      <td>6712</td>\n",
              "      <td>6745</td>\n",
              "      <td>6790</td>\n",
              "      <td>6842</td>\n",
              "      <td>6904</td>\n",
              "      <td>6955</td>\n",
              "      <td>7005</td>\n",
              "      <td>7050</td>\n",
              "      <td>7084</td>\n",
              "      <td>7127</td>\n",
              "      <td>7162</td>\n",
              "      <td>7190</td>\n",
              "      <td>7236</td>\n",
              "      <td>7288</td>\n",
              "      <td>7338</td>\n",
              "      <td>7382</td>\n",
              "      <td>7382</td>\n",
              "      <td>7446</td>\n",
              "      <td>7466</td>\n",
              "      <td>7519</td>\n",
              "      <td>7560</td>\n",
              "      <td>7577</td>\n",
              "      <td>7602</td>\n",
              "      <td>7633</td>\n",
              "      <td>7669</td>\n",
              "      <td>7699</td>\n",
              "      <td>7756</td>\n",
              "      <td>7806</td>\n",
              "      <td>7821</td>\n",
              "      <td>7875</td>\n",
              "      <td>7919</td>\n",
              "      <td>7983</td>\n",
              "      <td>8049</td>\n",
              "      <td>8117</td>\n",
              "      <td>8166</td>\n",
              "      <td>8192</td>\n",
              "      <td>8249</td>\n",
              "      <td>8308</td>\n",
              "      <td>8348</td>\n",
              "      <td>8348</td>\n",
              "    </tr>\n",
              "    <tr>\n",
              "      <th>4</th>\n",
              "      <td>NaN</td>\n",
              "      <td>Angola</td>\n",
              "      <td>-11.20270</td>\n",
              "      <td>17.873900</td>\n",
              "      <td>0</td>\n",
              "      <td>0</td>\n",
              "      <td>0</td>\n",
              "      <td>0</td>\n",
              "      <td>0</td>\n",
              "      <td>0</td>\n",
              "      <td>0</td>\n",
              "      <td>0</td>\n",
              "      <td>0</td>\n",
              "      <td>0</td>\n",
              "      <td>0</td>\n",
              "      <td>0</td>\n",
              "      <td>0</td>\n",
              "      <td>0</td>\n",
              "      <td>0</td>\n",
              "      <td>0</td>\n",
              "      <td>0</td>\n",
              "      <td>0</td>\n",
              "      <td>0</td>\n",
              "      <td>0</td>\n",
              "      <td>0</td>\n",
              "      <td>0</td>\n",
              "      <td>0</td>\n",
              "      <td>0</td>\n",
              "      <td>0</td>\n",
              "      <td>0</td>\n",
              "      <td>0</td>\n",
              "      <td>0</td>\n",
              "      <td>0</td>\n",
              "      <td>0</td>\n",
              "      <td>0</td>\n",
              "      <td>0</td>\n",
              "      <td>0</td>\n",
              "      <td>0</td>\n",
              "      <td>0</td>\n",
              "      <td>0</td>\n",
              "      <td>...</td>\n",
              "      <td>15103</td>\n",
              "      <td>15139</td>\n",
              "      <td>15251</td>\n",
              "      <td>15319</td>\n",
              "      <td>15361</td>\n",
              "      <td>15493</td>\n",
              "      <td>15536</td>\n",
              "      <td>15591</td>\n",
              "      <td>15648</td>\n",
              "      <td>15729</td>\n",
              "      <td>15804</td>\n",
              "      <td>15925</td>\n",
              "      <td>16061</td>\n",
              "      <td>16161</td>\n",
              "      <td>16188</td>\n",
              "      <td>16277</td>\n",
              "      <td>16362</td>\n",
              "      <td>16407</td>\n",
              "      <td>16484</td>\n",
              "      <td>16562</td>\n",
              "      <td>16626</td>\n",
              "      <td>16644</td>\n",
              "      <td>16686</td>\n",
              "      <td>16802</td>\n",
              "      <td>16931</td>\n",
              "      <td>17029</td>\n",
              "      <td>17099</td>\n",
              "      <td>17149</td>\n",
              "      <td>17240</td>\n",
              "      <td>17296</td>\n",
              "      <td>17371</td>\n",
              "      <td>17433</td>\n",
              "      <td>17553</td>\n",
              "      <td>17568</td>\n",
              "      <td>17608</td>\n",
              "      <td>17642</td>\n",
              "      <td>17684</td>\n",
              "      <td>17756</td>\n",
              "      <td>17864</td>\n",
              "      <td>17974</td>\n",
              "    </tr>\n",
              "  </tbody>\n",
              "</table>\n",
              "<p>5 rows × 356 columns</p>\n",
              "</div>"
            ],
            "text/plain": [
              "  Province/State Country/Region       Lat  ...  1/5/21  1/6/21  1/7/21\n",
              "0            NaN    Afghanistan  33.93911  ...   53105   53105   53207\n",
              "1            NaN        Albania  41.15330  ...   60283   61008   61705\n",
              "2            NaN        Algeria  28.03390  ...  100873  101120  101382\n",
              "3            NaN        Andorra  42.50630  ...    8308    8348    8348\n",
              "4            NaN         Angola -11.20270  ...   17756   17864   17974\n",
              "\n",
              "[5 rows x 356 columns]"
            ]
          },
          "metadata": {
            "tags": []
          },
          "execution_count": 3
        }
      ]
    },
    {
      "cell_type": "code",
      "metadata": {
        "id": "eBnC2BEebr7W"
      },
      "source": [
        "# The dataset contains data for a lot of countries\r\n",
        "# for our purpose we are working on India's data\r\n",
        "# you can use any other country if you want :)\r\n",
        "country = 'India'"
      ],
      "execution_count": 4,
      "outputs": []
    },
    {
      "cell_type": "code",
      "metadata": {
        "id": "QhgFkrxnbwyT"
      },
      "source": [
        "# Selecting the data only for the specified country\r\n",
        "df_country = df[df[\"Country/Region\"] == country]\r\n",
        "# droping unwanted columns \r\n",
        "df_country = df_country.drop(columns=['Province/State',\t'Country/Region',\t'Lat',\t'Long'])\r\n",
        "# taking transpose of the dataframe\r\n",
        "df_country = df_country.transpose()\r\n",
        "# renaming the column\r\n",
        "df_country.columns = ['confirmed']\r\n",
        "# converting index into datetime format\r\n",
        "df_country.index = pd.to_datetime(df_country.index,format='%m/%d/%y')"
      ],
      "execution_count": 5,
      "outputs": []
    },
    {
      "cell_type": "code",
      "metadata": {
        "colab": {
          "base_uri": "https://localhost:8080/",
          "height": 364
        },
        "id": "6ZKjeviYmTz_",
        "outputId": "971a4315-5cf6-4f36-a4ca-aa3ceba51567"
      },
      "source": [
        "df_country.plot(figsize=(10,5),title=\"COVID confirmed cases for \" + country)"
      ],
      "execution_count": 6,
      "outputs": [
        {
          "output_type": "execute_result",
          "data": {
            "text/plain": [
              "<matplotlib.axes._subplots.AxesSubplot at 0x7fbcdd9148d0>"
            ]
          },
          "metadata": {
            "tags": []
          },
          "execution_count": 6
        },
        {
          "output_type": "display_data",
          "data": {
            "image/png": "[encoded data removed]",
            "text/plain": [
              "<Figure size 720x360 with 1 Axes>"
            ]
          },
          "metadata": {
            "tags": [],
            "needs_background": "light"
          }
        }
      ]
    },
    {
      "cell_type": "code",
      "metadata": {
        "colab": {
          "base_uri": "https://localhost:8080/"
        },
        "id": "HYYnr5KZm0AM",
        "outputId": "0eae5d72-c9e4-4cd0-9fc3-62778b550a17"
      },
      "source": [
        "print(\"Total days in the dataset\", len(df_country))"
      ],
      "execution_count": 7,
      "outputs": [
        {
          "output_type": "stream",
          "text": [
            "Total days in the dataset 352\n"
          ],
          "name": "stdout"
        }
      ]
    },
    {
      "cell_type": "markdown",
      "metadata": {
        "id": "6uI1VWv6pNV9"
      },
      "source": [
        "### Splitting data into Train and Test"
      ]
    },
    {
      "cell_type": "code",
      "metadata": {
        "id": "OLF4g3EfpUZG"
      },
      "source": [
        "# Using data of last 20% of days as testing\r\n",
        "test_size = int(len(df_country)*0.2)\r\n",
        "\r\n",
        "train=df_country.iloc[:-test_size]\r\n",
        "test = df_country.iloc[-test_size:]"
      ],
      "execution_count": 8,
      "outputs": []
    },
    {
      "cell_type": "markdown",
      "metadata": {
        "id": "r4-GZ6tlqD3V"
      },
      "source": [
        "### Scaling the data"
      ]
    },
    {
      "cell_type": "code",
      "metadata": {
        "id": "bhpKUNUvqHMn"
      },
      "source": [
        "from sklearn.preprocessing import MinMaxScaler\r\n",
        "scaler = MinMaxScaler()\r\n",
        "scaler.fit(train) \r\n",
        "\r\n",
        "train_scaled = scaler.transform(train)\r\n",
        "test_scaled = scaler.transform(test)"
      ],
      "execution_count": 9,
      "outputs": []
    },
    {
      "cell_type": "markdown",
      "metadata": {
        "id": "1eodkOyGqwuE"
      },
      "source": [
        "### Generating Sequential Data"
      ]
    },
    {
      "cell_type": "markdown",
      "metadata": {
        "id": "SeHumzz3wMqU"
      },
      "source": [
        "#### Train Data"
      ]
    },
    {
      "cell_type": "code",
      "metadata": {
        "colab": {
          "base_uri": "https://localhost:8080/"
        },
        "id": "lAvJPwwrq1IT",
        "outputId": "de69f646-2a7f-4c37-c280-1917c71c10da"
      },
      "source": [
        "# Use TimeSeriestrain_generator to generate data in sequences.\r\n",
        "# Alternatively we can create our own sequences. \r\n",
        "from keras.preprocessing.sequence import TimeseriesGenerator\r\n",
        "\r\n",
        "# Sequence size has an impact on prediction, especially since COVID is unpredictable!\r\n",
        "# note that the sequence size should not be more than the test_size defined earliear\r\n",
        "# a greater sequence size will cause problem for generating test data\r\n",
        "seq_size = 14  ## number of steps (lookback)\r\n",
        "n_features = 1 ## number of features. This dataset is univariate so it is 1\r\n",
        "\r\n",
        "assert(seq_size<=test_size), \"Sequence size more than Test size\"\r\n",
        "\r\n",
        "train_generator = TimeseriesGenerator(train_scaled, train_scaled, length = seq_size, batch_size=1)\r\n",
        "print(\"Total number of samples in the original training data = \", len(train)) # 271\r\n",
        "print(\"Total number of samples in the generated data = \", len(train_generator)) # 264 with seq_size=7\r\n",
        "\r\n",
        "# Check data shape from generator\r\n",
        "x,y = train_generator[10]  # Check train_generator\r\n",
        "# Takes 7 days as x and 8th day as y (for seq_size=7)"
      ],
      "execution_count": 10,
      "outputs": [
        {
          "output_type": "stream",
          "text": [
            "Total number of samples in the original training data =  282\n",
            "Total number of samples in the generated data =  268\n"
          ],
          "name": "stdout"
        }
      ]
    },
    {
      "cell_type": "markdown",
      "metadata": {
        "id": "abIkDDr2wQiW"
      },
      "source": [
        "#### Test Data"
      ]
    },
    {
      "cell_type": "code",
      "metadata": {
        "colab": {
          "base_uri": "https://localhost:8080/"
        },
        "id": "K4Ke7CcvgET1",
        "outputId": "2f8b63eb-c641-4bcb-c1f7-f23b33524ea7"
      },
      "source": [
        "#Also generate test data\r\n",
        "test_generator = TimeseriesGenerator(test_scaled, test_scaled, length=seq_size, batch_size=1)\r\n",
        "print(\"Total number of samples in the original training data = \", len(test)) # 14 as we're using last 14 days for test\r\n",
        "print(\"Total number of samples in the generated data = \", len(test_generator)) # 7\r\n",
        "#Check data shape from generator\r\n",
        "x,y = test_generator[0]"
      ],
      "execution_count": 11,
      "outputs": [
        {
          "output_type": "stream",
          "text": [
            "Total number of samples in the original training data =  70\n",
            "Total number of samples in the generated data =  56\n"
          ],
          "name": "stdout"
        }
      ]
    },
    {
      "cell_type": "markdown",
      "metadata": {
        "id": "qQjrFBhcwVJc"
      },
      "source": [
        "## Model Building"
      ]
    },
    {
      "cell_type": "code",
      "metadata": {
        "colab": {
          "base_uri": "https://localhost:8080/"
        },
        "id": "BJxYXb7tgM0u",
        "outputId": "c358c394-9400-44be-e861-3ded44418118"
      },
      "source": [
        "from tensorflow.keras.models import Sequential\r\n",
        "from tensorflow.keras.layers import Dense, LSTM, Dropout, Activation\r\n",
        "\r\n",
        "#Define Model \r\n",
        "model = Sequential()\r\n",
        "model.add(LSTM(128, activation='relu', return_sequences=True, input_shape=(seq_size, n_features)))\r\n",
        "model.add(LSTM(64, activation='relu'))\r\n",
        "model.add(Dense(64))\r\n",
        "model.add(Dense(1))\r\n",
        "model.compile(optimizer='adam', loss='mse')\r\n",
        "\r\n",
        "model.summary()"
      ],
      "execution_count": 12,
      "outputs": [
        {
          "output_type": "stream",
          "text": [
            "WARNING:tensorflow:Layer lstm will not use cuDNN kernel since it doesn't meet the cuDNN kernel criteria. It will use generic GPU kernel as fallback when running on GPU\n",
            "WARNING:tensorflow:Layer lstm_1 will not use cuDNN kernel since it doesn't meet the cuDNN kernel criteria. It will use generic GPU kernel as fallback when running on GPU\n",
            "Model: \"sequential\"\n",
            "_________________________________________________________________\n",
            "Layer (type)                 Output Shape              Param #   \n",
            "=================================================================\n",
            "lstm (LSTM)                  (None, 14, 128)           66560     \n",
            "_________________________________________________________________\n",
            "lstm_1 (LSTM)                (None, 64)                49408     \n",
            "_________________________________________________________________\n",
            "dense (Dense)                (None, 64)                4160      \n",
            "_________________________________________________________________\n",
            "dense_1 (Dense)              (None, 1)                 65        \n",
            "=================================================================\n",
            "Total params: 120,193\n",
            "Trainable params: 120,193\n",
            "Non-trainable params: 0\n",
            "_________________________________________________________________\n"
          ],
          "name": "stdout"
        }
      ]
    },
    {
      "cell_type": "markdown",
      "metadata": {
        "id": "67inl8zDwiAz"
      },
      "source": [
        "## Model Training"
      ]
    },
    {
      "cell_type": "code",
      "metadata": {
        "colab": {
          "base_uri": "https://localhost:8080/"
        },
        "id": "aTjPOILggY_s",
        "outputId": "cfe6072d-768f-40f6-d0d0-675478c26dd3"
      },
      "source": [
        "history = model.fit(train_generator, validation_data=test_generator, epochs=50, steps_per_epoch=10)"
      ],
      "execution_count": 13,
      "outputs": [
        {
          "output_type": "stream",
          "text": [
            "Epoch 1/50\n",
            "10/10 [==============================] - 3s 136ms/step - loss: 0.3174 - val_loss: 0.6312\n",
            "Epoch 2/50\n",
            "10/10 [==============================] - 1s 72ms/step - loss: 0.0499 - val_loss: 0.0894\n",
            "Epoch 3/50\n",
            "10/10 [==============================] - 1s 74ms/step - loss: 0.0224 - val_loss: 0.0203\n",
            "Epoch 4/50\n",
            "10/10 [==============================] - 1s 73ms/step - loss: 0.0102 - val_loss: 9.5345e-04\n",
            "Epoch 5/50\n",
            "10/10 [==============================] - 1s 72ms/step - loss: 0.0083 - val_loss: 0.0088\n",
            "Epoch 6/50\n",
            "10/10 [==============================] - 1s 74ms/step - loss: 0.0039 - val_loss: 0.1220\n",
            "Epoch 7/50\n",
            "10/10 [==============================] - 1s 71ms/step - loss: 0.0098 - val_loss: 0.0249\n",
            "Epoch 8/50\n",
            "10/10 [==============================] - 1s 72ms/step - loss: 0.0047 - val_loss: 0.1150\n",
            "Epoch 9/50\n",
            "10/10 [==============================] - 1s 72ms/step - loss: 0.0066 - val_loss: 0.0534\n",
            "Epoch 10/50\n",
            "10/10 [==============================] - 1s 73ms/step - loss: 0.0177 - val_loss: 0.0067\n",
            "Epoch 11/50\n",
            "10/10 [==============================] - 1s 71ms/step - loss: 0.0045 - val_loss: 0.0733\n",
            "Epoch 12/50\n",
            "10/10 [==============================] - 1s 80ms/step - loss: 0.0019 - val_loss: 0.0219\n",
            "Epoch 13/50\n",
            "10/10 [==============================] - 1s 81ms/step - loss: 0.0016 - val_loss: 0.0595\n",
            "Epoch 14/50\n",
            "10/10 [==============================] - 1s 73ms/step - loss: 0.0015 - val_loss: 0.0018\n",
            "Epoch 15/50\n",
            "10/10 [==============================] - 1s 74ms/step - loss: 0.0015 - val_loss: 0.0011\n",
            "Epoch 16/50\n",
            "10/10 [==============================] - 1s 71ms/step - loss: 0.0013 - val_loss: 0.0080\n",
            "Epoch 17/50\n",
            "10/10 [==============================] - 1s 74ms/step - loss: 0.0020 - val_loss: 0.0032\n",
            "Epoch 18/50\n",
            "10/10 [==============================] - 1s 77ms/step - loss: 0.0016 - val_loss: 0.0052\n",
            "Epoch 19/50\n",
            "10/10 [==============================] - 1s 70ms/step - loss: 0.0010 - val_loss: 3.4544e-04\n",
            "Epoch 20/50\n",
            "10/10 [==============================] - 1s 74ms/step - loss: 4.1404e-04 - val_loss: 7.2293e-04\n",
            "Epoch 21/50\n",
            "10/10 [==============================] - 1s 74ms/step - loss: 6.7994e-04 - val_loss: 0.0054\n",
            "Epoch 22/50\n",
            "10/10 [==============================] - 1s 91ms/step - loss: 3.3182e-04 - val_loss: 9.6338e-05\n",
            "Epoch 23/50\n",
            "10/10 [==============================] - 1s 80ms/step - loss: 2.5502e-04 - val_loss: 8.5315e-04\n",
            "Epoch 24/50\n",
            "10/10 [==============================] - 1s 94ms/step - loss: 1.3130e-04 - val_loss: 0.0016\n",
            "Epoch 25/50\n",
            "10/10 [==============================] - 1s 95ms/step - loss: 6.4048e-05 - val_loss: 0.0060\n",
            "Epoch 26/50\n",
            "10/10 [==============================] - 1s 71ms/step - loss: 1.2490e-04 - val_loss: 0.0024\n",
            "Epoch 27/50\n",
            "10/10 [==============================] - 1s 74ms/step - loss: 2.6242e-05 - val_loss: 0.0043\n",
            "Epoch 28/50\n",
            "10/10 [==============================] - 1s 71ms/step - loss: 4.5273e-05 - val_loss: 0.0047\n",
            "Epoch 29/50\n",
            "10/10 [==============================] - 1s 80ms/step - loss: 2.3309e-05 - val_loss: 0.0040\n",
            "Epoch 30/50\n",
            "10/10 [==============================] - 1s 72ms/step - loss: 4.0758e-05 - val_loss: 5.3676e-04\n",
            "Epoch 31/50\n",
            "10/10 [==============================] - 1s 77ms/step - loss: 8.1848e-05 - val_loss: 0.0066\n",
            "Epoch 32/50\n",
            "10/10 [==============================] - 1s 84ms/step - loss: 2.4598e-05 - val_loss: 0.0036\n",
            "Epoch 33/50\n",
            "10/10 [==============================] - 1s 74ms/step - loss: 8.5099e-05 - val_loss: 0.0035\n",
            "Epoch 34/50\n",
            "10/10 [==============================] - 1s 82ms/step - loss: 3.4557e-05 - val_loss: 0.0072\n",
            "Epoch 35/50\n",
            "10/10 [==============================] - 1s 70ms/step - loss: 5.0368e-06 - val_loss: 0.0090\n",
            "Epoch 36/50\n",
            "10/10 [==============================] - 1s 84ms/step - loss: 2.0511e-04 - val_loss: 5.8216e-04\n",
            "Epoch 37/50\n",
            "10/10 [==============================] - 1s 73ms/step - loss: 5.8352e-04 - val_loss: 0.0175\n",
            "Epoch 38/50\n",
            "10/10 [==============================] - 1s 73ms/step - loss: 1.8749e-04 - val_loss: 0.0118\n",
            "Epoch 39/50\n",
            "10/10 [==============================] - 1s 77ms/step - loss: 2.5147e-04 - val_loss: 2.0151e-04\n",
            "Epoch 40/50\n",
            "10/10 [==============================] - 1s 93ms/step - loss: 1.3373e-04 - val_loss: 0.0027\n",
            "Epoch 41/50\n",
            "10/10 [==============================] - 1s 77ms/step - loss: 1.3813e-04 - val_loss: 0.0017\n",
            "Epoch 42/50\n",
            "10/10 [==============================] - 1s 74ms/step - loss: 3.0490e-05 - val_loss: 0.0022\n",
            "Epoch 43/50\n",
            "10/10 [==============================] - 1s 79ms/step - loss: 6.1183e-05 - val_loss: 0.0016\n",
            "Epoch 44/50\n",
            "10/10 [==============================] - 1s 93ms/step - loss: 5.5316e-05 - val_loss: 0.0017\n",
            "Epoch 45/50\n",
            "10/10 [==============================] - 1s 73ms/step - loss: 1.8718e-05 - val_loss: 0.0016\n",
            "Epoch 46/50\n",
            "10/10 [==============================] - 1s 84ms/step - loss: 2.4779e-05 - val_loss: 0.0049\n",
            "Epoch 47/50\n",
            "10/10 [==============================] - 1s 80ms/step - loss: 5.4879e-05 - val_loss: 0.0035\n",
            "Epoch 48/50\n",
            "10/10 [==============================] - 1s 92ms/step - loss: 3.0425e-04 - val_loss: 1.9940e-04\n",
            "Epoch 49/50\n",
            "10/10 [==============================] - 1s 77ms/step - loss: 1.4363e-04 - val_loss: 0.0044\n",
            "Epoch 50/50\n",
            "10/10 [==============================] - 1s 76ms/step - loss: 8.9465e-05 - val_loss: 2.0711e-04\n"
          ],
          "name": "stdout"
        }
      ]
    },
    {
      "cell_type": "code",
      "metadata": {
        "colab": {
          "base_uri": "https://localhost:8080/",
          "height": 295
        },
        "id": "ZzeXM9natc8H",
        "outputId": "34e11faa-7e38-486a-9a8f-bc2449800905"
      },
      "source": [
        "#plot the training and validation accuracy and loss at each epoch\r\n",
        "loss = history.history['loss']\r\n",
        "val_loss = history.history['val_loss']\r\n",
        "epochs = range(1, len(loss) + 1)\r\n",
        "plt.plot(epochs, loss, 'y', label='Training loss')\r\n",
        "plt.plot(epochs, val_loss, 'r', label='Validation loss')\r\n",
        "plt.title('Training and validation loss')\r\n",
        "plt.xlabel('Epochs')\r\n",
        "plt.ylabel('Loss')\r\n",
        "plt.legend()\r\n",
        "plt.show()"
      ],
      "execution_count": 14,
      "outputs": [
        {
          "output_type": "display_data",
          "data": {
            "image/png": "[encoded data removed]",
            "text/plain": [
              "<Figure size 432x288 with 1 Axes>"
            ]
          },
          "metadata": {
            "tags": [],
            "needs_background": "light"
          }
        }
      ]
    },
    {
      "cell_type": "markdown",
      "metadata": {
        "id": "ANElJUhPwoN4"
      },
      "source": [
        "## Model Testing"
      ]
    },
    {
      "cell_type": "code",
      "metadata": {
        "id": "7cWnFsKr1B9H"
      },
      "source": [
        "# Empty list to store predictions\r\n",
        "prediction = [] \r\n",
        "\r\n",
        "# Last data points in train to make the first test predictions.\r\n",
        "current_batch = train_scaled[-seq_size:]\r\n",
        "# Reshaping\r\n",
        "current_batch = current_batch.reshape(1, seq_size, n_features)"
      ],
      "execution_count": 15,
      "outputs": []
    },
    {
      "cell_type": "code",
      "metadata": {
        "id": "TLBencC41CXg"
      },
      "source": [
        "# Predict future, beyond test dates\r\n",
        "future = 7 #Days\r\n",
        "for i in range(len(test) + future):\r\n",
        "    \r\n",
        "    # making predicitions  \r\n",
        "    current_pred = model.predict(current_batch)[0]\r\n",
        "    \r\n",
        "    # appending the current prediction to our list\r\n",
        "    prediction.append(current_pred)\r\n",
        "    \r\n",
        "    # updating the current batch by removing the first entry\r\n",
        "    # and adding the current pred as the latest entry\r\n",
        "    current_batch = np.append(current_batch[:,1:,:],[[current_pred]],axis=1)"
      ],
      "execution_count": 16,
      "outputs": []
    },
    {
      "cell_type": "code",
      "metadata": {
        "id": "JfsIfTCg1Clg"
      },
      "source": [
        "# Inverse transform to get the orignial data\r\n",
        "rescaled_prediction = scaler.inverse_transform(prediction)\r\n",
        "\r\n",
        "# Getting dates from test data\r\n",
        "days_array = test.index"
      ],
      "execution_count": 17,
      "outputs": []
    },
    {
      "cell_type": "code",
      "metadata": {
        "id": "8PMjG1zl1KBo"
      },
      "source": [
        "# Add new dates for the forecast period\r\n",
        "for k in range(0, future):\r\n",
        "    days_array = days_array.append(days_array[-1:] + pd.DateOffset(1))"
      ],
      "execution_count": 18,
      "outputs": []
    },
    {
      "cell_type": "code",
      "metadata": {
        "id": "yMObuos61Mco"
      },
      "source": [
        "# Create a dataframe to capture the forecast data\r\n",
        "df_forecast = pd.DataFrame(columns=[\"actual\",\"predicted\"], index=days_array)\r\n",
        "\r\n",
        "df_forecast.loc[:,\"predicted\"] = rescaled_prediction[:,0]\r\n",
        "df_forecast.loc[:,\"actual\"] = test[\"confirmed\"]"
      ],
      "execution_count": 19,
      "outputs": []
    },
    {
      "cell_type": "code",
      "metadata": {
        "colab": {
          "base_uri": "https://localhost:8080/",
          "height": 402
        },
        "id": "NfIYEydb3wUj",
        "outputId": "cd8aa042-1f70-4f40-da53-3d2580f9f50d"
      },
      "source": [
        "df_forecast"
      ],
      "execution_count": 20,
      "outputs": [
        {
          "output_type": "execute_result",
          "data": {
            "text/html": [
              "<div>\n",
              "<style scoped>\n",
              "    .dataframe tbody tr th:only-of-type {\n",
              "        vertical-align: middle;\n",
              "    }\n",
              "\n",
              "    .dataframe tbody tr th {\n",
              "        vertical-align: top;\n",
              "    }\n",
              "\n",
              "    .dataframe thead th {\n",
              "        text-align: right;\n",
              "    }\n",
              "</style>\n",
              "<table border=\"1\" class=\"dataframe\">\n",
              "  <thead>\n",
              "    <tr style=\"text-align: right;\">\n",
              "      <th></th>\n",
              "      <th>actual</th>\n",
              "      <th>predicted</th>\n",
              "    </tr>\n",
              "  </thead>\n",
              "  <tbody>\n",
              "    <tr>\n",
              "      <th>2020-10-30</th>\n",
              "      <td>8137119.0</td>\n",
              "      <td>8.122371e+06</td>\n",
              "    </tr>\n",
              "    <tr>\n",
              "      <th>2020-10-31</th>\n",
              "      <td>8184082.0</td>\n",
              "      <td>8.169743e+06</td>\n",
              "    </tr>\n",
              "    <tr>\n",
              "      <th>2020-11-01</th>\n",
              "      <td>8229313.0</td>\n",
              "      <td>8.216119e+06</td>\n",
              "    </tr>\n",
              "    <tr>\n",
              "      <th>2020-11-02</th>\n",
              "      <td>8267623.0</td>\n",
              "      <td>8.261890e+06</td>\n",
              "    </tr>\n",
              "    <tr>\n",
              "      <th>2020-11-03</th>\n",
              "      <td>8313876.0</td>\n",
              "      <td>8.307362e+06</td>\n",
              "    </tr>\n",
              "    <tr>\n",
              "      <th>...</th>\n",
              "      <td>...</td>\n",
              "      <td>...</td>\n",
              "    </tr>\n",
              "    <tr>\n",
              "      <th>2021-01-10</th>\n",
              "      <td>NaN</td>\n",
              "      <td>1.145799e+07</td>\n",
              "    </tr>\n",
              "    <tr>\n",
              "      <th>2021-01-11</th>\n",
              "      <td>NaN</td>\n",
              "      <td>1.151283e+07</td>\n",
              "    </tr>\n",
              "    <tr>\n",
              "      <th>2021-01-12</th>\n",
              "      <td>NaN</td>\n",
              "      <td>1.156818e+07</td>\n",
              "    </tr>\n",
              "    <tr>\n",
              "      <th>2021-01-13</th>\n",
              "      <td>NaN</td>\n",
              "      <td>1.162404e+07</td>\n",
              "    </tr>\n",
              "    <tr>\n",
              "      <th>2021-01-14</th>\n",
              "      <td>NaN</td>\n",
              "      <td>1.168046e+07</td>\n",
              "    </tr>\n",
              "  </tbody>\n",
              "</table>\n",
              "<p>77 rows × 2 columns</p>\n",
              "</div>"
            ],
            "text/plain": [
              "               actual     predicted\n",
              "2020-10-30  8137119.0  8.122371e+06\n",
              "2020-10-31  8184082.0  8.169743e+06\n",
              "2020-11-01  8229313.0  8.216119e+06\n",
              "2020-11-02  8267623.0  8.261890e+06\n",
              "2020-11-03  8313876.0  8.307362e+06\n",
              "...               ...           ...\n",
              "2021-01-10        NaN  1.145799e+07\n",
              "2021-01-11        NaN  1.151283e+07\n",
              "2021-01-12        NaN  1.156818e+07\n",
              "2021-01-13        NaN  1.162404e+07\n",
              "2021-01-14        NaN  1.168046e+07\n",
              "\n",
              "[77 rows x 2 columns]"
            ]
          },
          "metadata": {
            "tags": []
          },
          "execution_count": 20
        }
      ]
    },
    {
      "cell_type": "code",
      "metadata": {
        "colab": {
          "base_uri": "https://localhost:8080/",
          "height": 333
        },
        "id": "nG7DqUGlVxgC",
        "outputId": "77c9e418-a427-4498-e4ad-ec95256e90d9"
      },
      "source": [
        "# Plot\r\n",
        "df_forecast.plot(title=\"Predictions for next {} days\".format(future))"
      ],
      "execution_count": 21,
      "outputs": [
        {
          "output_type": "execute_result",
          "data": {
            "text/plain": [
              "<matplotlib.axes._subplots.AxesSubplot at 0x7fbc30392fd0>"
            ]
          },
          "metadata": {
            "tags": []
          },
          "execution_count": 21
        },
        {
          "output_type": "display_data",
          "data": {
            "image/png": "[encoded data removed]",
            "text/plain": [
              "<Figure size 432x288 with 1 Axes>"
            ]
          },
          "metadata": {
            "tags": [],
            "needs_background": "light"
          }
        }
      ]
    }
  ]
}