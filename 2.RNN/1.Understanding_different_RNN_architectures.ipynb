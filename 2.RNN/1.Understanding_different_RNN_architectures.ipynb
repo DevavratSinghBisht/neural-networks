{
  "nbformat": 4,
  "nbformat_minor": 0,
  "metadata": {
    "kernelspec": {
      "display_name": "Python 3",
      "language": "python",
      "name": "python3"
    },
    "language_info": {
      "codemirror_mode": {
        "name": "ipython",
        "version": 3
      },
      "file_extension": ".py",
      "mimetype": "text/x-python",
      "name": "python",
      "nbconvert_exporter": "python",
      "pygments_lexer": "ipython3",
      "version": "3.6.1"
    },
    "colab": {
      "name": "Understanding different RNN Structures.ipynb",
      "provenance": [],
      "collapsed_sections": []
    }
  },
  "cells": [
    {
      "cell_type": "markdown",
      "metadata": {
        "id": "8xdBe0R8RovT"
      },
      "source": [
        "# Understanding RNN structure\n",
        "- Distinguished from feedforward nets, RNNs are structures that can well handle data with \"sequential\" format by preserving previous \"state\" \n",
        "- Thus, grasping concepts of **\"sequences\"** and (hidden) **\"states\"** in RNNs is crucial\n",
        "\n",
        "<br>\n",
        "<img src=\"https://github.com/DevavratSinghBisht/neural-networks/blob/main/2.RNN/Assets/rnn_structure.jpeg?raw=true\" style=\"width: 500px\"/>"
      ]
    },
    {
      "cell_type": "code",
      "metadata": {
        "id": "rYZsn0IXRovb"
      },
      "source": [
        "import numpy as np\n",
        "from keras.models import Model, Sequential\n",
        "from keras.layers import *"
      ],
      "execution_count": 23,
      "outputs": []
    },
    {
      "cell_type": "markdown",
      "metadata": {
        "id": "nkT0tGwORovc"
      },
      "source": [
        "## 1. SimpleRNN "
      ]
    },
    {
      "cell_type": "markdown",
      "metadata": {
        "id": "b97SGMg0Rovc"
      },
      "source": [
        "Input shape of SimpleRNN should be 3D tensor => (batch_size, timesteps, input_dim)\n",
        "- **batch_size**: ommitted when creating RNN instance (== None). Usually designated when fitting model.\n",
        "- **timesteps**: number of input sequence per batch\n",
        "- **input_dim**: dimensionality of input sequence"
      ]
    },
    {
      "cell_type": "code",
      "metadata": {
        "collapsed": true,
        "id": "m1ZJbIoIRovd"
      },
      "source": [
        "# for instance, consider below array\n",
        "x = np.array([[\n",
        "             [1,    # => input_dim 1\n",
        "              2,    # => input_dim 2 \n",
        "              3],   # => input_dim 3     # => timestep 1                            \n",
        "             [4, 5, 6]                   # => timestep 2\n",
        "             ],                                  # => batch 1\n",
        "             [[7, 8, 9], [10, 11, 12]],          # => batch 2\n",
        "             [[13, 14, 15], [16, 17, 18]]        # => batch 3\n",
        "             ])"
      ],
      "execution_count": 24,
      "outputs": []
    },
    {
      "cell_type": "code",
      "metadata": {
        "id": "KjXOPnVJRovd",
        "colab": {
          "base_uri": "https://localhost:8080/"
        },
        "outputId": "ca8e0200-0af0-4fe3-a001-9f3ff0f1f1d3"
      },
      "source": [
        "print('(Batch size, timesteps, input_dim) = ',x.shape)"
      ],
      "execution_count": 25,
      "outputs": [
        {
          "output_type": "stream",
          "text": [
            "(Batch size, timesteps, input_dim) =  (3, 2, 3)\n"
          ],
          "name": "stdout"
        }
      ]
    },
    {
      "cell_type": "markdown",
      "metadata": {
        "id": "CLoqafFxCA46"
      },
      "source": [
        "**lets assume** that our input shape is **(10, 30)** for further examples"
      ]
    },
    {
      "cell_type": "code",
      "metadata": {
        "id": "yVUmuEOLRovf"
      },
      "source": [
        "# rnn = SimpleRNN(50)(Input(shape = (10,))) => error\n",
        "# rnn = SimpleRNN(50)(Input(shape = (10, 30, 40))) => error\n",
        "rnn = SimpleRNN(50)(Input(shape = (10, 30)))"
      ],
      "execution_count": 26,
      "outputs": []
    },
    {
      "cell_type": "markdown",
      "metadata": {
        "id": "eLHB7s9RRovf"
      },
      "source": [
        "**return_state** = **return_sequences** = **False** ====> output_shape = **(batch_size = None, num_units)**"
      ]
    },
    {
      "cell_type": "code",
      "metadata": {
        "id": "mgDW6MvoRovf",
        "colab": {
          "base_uri": "https://localhost:8080/"
        },
        "outputId": "ee0a5f4e-16fb-4e4a-8d72-60b1eca6e4e6"
      },
      "source": [
        "rnn = SimpleRNN(50)(Input(shape = (10, 30)))\n",
        "print(rnn.shape)"
      ],
      "execution_count": 27,
      "outputs": [
        {
          "output_type": "stream",
          "text": [
            "(None, 50)\n"
          ],
          "name": "stdout"
        }
      ]
    },
    {
      "cell_type": "markdown",
      "metadata": {
        "id": "V7J1AgN6Rovg"
      },
      "source": [
        "**return_sequences = True** ====> output_shape = **(batch_size, timesteps, num_units)**"
      ]
    },
    {
      "cell_type": "code",
      "metadata": {
        "id": "_pxsBbYYRovg",
        "colab": {
          "base_uri": "https://localhost:8080/"
        },
        "outputId": "6947729d-0d01-4611-8c3c-31cdb4cefb10"
      },
      "source": [
        "rnn = SimpleRNN(50, return_sequences = True)(Input(shape = (10, 30)))\n",
        "print(rnn.shape)"
      ],
      "execution_count": 28,
      "outputs": [
        {
          "output_type": "stream",
          "text": [
            "(None, 10, 50)\n"
          ],
          "name": "stdout"
        }
      ]
    },
    {
      "cell_type": "markdown",
      "metadata": {
        "id": "eJxZxnq4Rovg"
      },
      "source": [
        "return_state = True ===> outputs list of tensor: **[output, state]**\n",
        "- if return_sequences == False     =>>    output_shape = (batch_size, num_units)\n",
        "- if return_sequences == True      =>>    output_shape = (batch_size, timesteps, num_units)"
      ]
    },
    {
      "cell_type": "code",
      "metadata": {
        "id": "Gu59LsJxRovh",
        "colab": {
          "base_uri": "https://localhost:8080/"
        },
        "outputId": "95bfdf87-eb69-45d0-f4ff-d10ee6619297"
      },
      "source": [
        "rnn = SimpleRNN(50, return_sequences = False, return_state = True)(Input(shape = (10, 30)))\n",
        "print(rnn[0].shape)         # shape of output\n",
        "print(rnn[1].shape)         # shape of last state"
      ],
      "execution_count": 29,
      "outputs": [
        {
          "output_type": "stream",
          "text": [
            "(None, 50)\n",
            "(None, 50)\n"
          ],
          "name": "stdout"
        }
      ]
    },
    {
      "cell_type": "code",
      "metadata": {
        "id": "BMm79ZjARovh",
        "colab": {
          "base_uri": "https://localhost:8080/"
        },
        "outputId": "49a864e5-16be-4a33-e713-2c06f038904f"
      },
      "source": [
        "rnn = SimpleRNN(50, return_sequences = True, return_state = True)(Input(shape = (10, 30)))\n",
        "print(rnn[0].shape)         # shape of output\n",
        "print(rnn[1].shape)         # shape of last state"
      ],
      "execution_count": 30,
      "outputs": [
        {
          "output_type": "stream",
          "text": [
            "(None, 10, 50)\n",
            "(None, 50)\n"
          ],
          "name": "stdout"
        }
      ]
    },
    {
      "cell_type": "markdown",
      "metadata": {
        "id": "gxje1tzCRovh"
      },
      "source": [
        "Current output and state can be unpacked as below"
      ]
    },
    {
      "cell_type": "code",
      "metadata": {
        "collapsed": true,
        "id": "El14JieLRovi"
      },
      "source": [
        "output, state = SimpleRNN(50, return_sequences = True, return_state = True)(Input(shape = (10, 30)))"
      ],
      "execution_count": 31,
      "outputs": []
    },
    {
      "cell_type": "code",
      "metadata": {
        "id": "fPeiCtBhRovi",
        "colab": {
          "base_uri": "https://localhost:8080/"
        },
        "outputId": "e4bb9300-5040-4a16-b39e-9c47ffd8e5d8"
      },
      "source": [
        "print(output.shape)\n",
        "print(state.shape)"
      ],
      "execution_count": 32,
      "outputs": [
        {
          "output_type": "stream",
          "text": [
            "(None, 10, 50)\n",
            "(None, 50)\n"
          ],
          "name": "stdout"
        }
      ]
    },
    {
      "cell_type": "markdown",
      "metadata": {
        "id": "JMNwFVuTRovi"
      },
      "source": [
        "## 2. LSTM\n",
        "\n",
        "<img src=\"https://github.com/DevavratSinghBisht/neural-networks/blob/main/2.RNN/Assets/understanding_lstm.png?raw=true\" style=\"width: 500px\"/>\n",
        "\n",
        "- Outputs of LSTM are quite similar to those of RNNs, but there exist subtle differences\n",
        "- If you compare two diagrams below, there is one more type of \"state\" that is preserved to next module\n",
        "\n",
        "<br>\n",
        "<img src=\"https://github.com/DevavratSinghBisht/neural-networks/blob/main/2.RNN/Assets/simple_rnn.png?raw=true\" style=\"width: 500px\"/>\n",
        "\n",
        "<center> Standard RNN </center>\n",
        "\n",
        "<br>\n",
        "<img src=\"https://github.com/DevavratSinghBisht/neural-networks/blob/main/2.RNN/Assets/lstm.png?raw=true\" style=\"width: 500px\"/>\n",
        "\n",
        "<center> LSTM </center>"
      ]
    },
    {
      "cell_type": "markdown",
      "metadata": {
        "id": "RHfswSX6Rovi"
      },
      "source": [
        "In addition to \"hidden state (ht)\" in RNN, there exist \"cell state (Ct)\" in LSTM structure\n",
        "\n",
        "<br>\n",
        "<img src=\"https://github.com/DevavratSinghBisht/neural-networks/blob/main/2.RNN/Assets/lstm_hidden_state.png?raw=true\" style=\"width: 500px\"/>\n",
        "\n",
        "<center> Hidden State </center>\n",
        "\n",
        "<br>\n",
        "<img src=\"https://github.com/DevavratSinghBisht/neural-networks/blob/main/2.RNN/Assets/lstm_cell_state.png?raw=true\" style=\"width: 500px\"/>\n",
        "\n",
        "<center> Cell State </center>"
      ]
    },
    {
      "cell_type": "code",
      "metadata": {
        "collapsed": true,
        "id": "ZMU3z34cRovj"
      },
      "source": [
        "lstm = LSTM(50)(Input(shape = (10, 30)))"
      ],
      "execution_count": 33,
      "outputs": []
    },
    {
      "cell_type": "code",
      "metadata": {
        "id": "Xfo0hWa2Rovj",
        "colab": {
          "base_uri": "https://localhost:8080/"
        },
        "outputId": "737a0cba-e87a-4681-f88b-89bd608f2cdd"
      },
      "source": [
        "print(lstm.shape)"
      ],
      "execution_count": 34,
      "outputs": [
        {
          "output_type": "stream",
          "text": [
            "(None, 50)\n"
          ],
          "name": "stdout"
        }
      ]
    },
    {
      "cell_type": "code",
      "metadata": {
        "id": "zbwJKdroRovj",
        "colab": {
          "base_uri": "https://localhost:8080/"
        },
        "outputId": "ed5829e9-8550-4527-a9ca-4d30f2400fb7"
      },
      "source": [
        "lstm = LSTM(50, return_sequences = False, return_state = True)(Input(shape = (10, 30)))\n",
        "print(lstm[0].shape)         # shape of output\n",
        "print(lstm[1].shape)         # shape of hidden state\n",
        "print(lstm[2].shape)         # shape of cell state"
      ],
      "execution_count": 35,
      "outputs": [
        {
          "output_type": "stream",
          "text": [
            "(None, 50)\n",
            "(None, 50)\n",
            "(None, 50)\n"
          ],
          "name": "stdout"
        }
      ]
    },
    {
      "cell_type": "code",
      "metadata": {
        "id": "6quHjgujRovk",
        "colab": {
          "base_uri": "https://localhost:8080/"
        },
        "outputId": "e8570dab-090d-4d47-ace2-a1ff6db2dad8"
      },
      "source": [
        "lstm = LSTM(50, return_sequences = True, return_state = True)(Input(shape = (10, 30)))\n",
        "print(lstm[0].shape)         # shape of output\n",
        "print(lstm[1].shape)         # shape of hidden state\n",
        "print(lstm[2].shape)         # shape of cell state"
      ],
      "execution_count": 36,
      "outputs": [
        {
          "output_type": "stream",
          "text": [
            "(None, 10, 50)\n",
            "(None, 50)\n",
            "(None, 50)\n"
          ],
          "name": "stdout"
        }
      ]
    },
    {
      "cell_type": "code",
      "metadata": {
        "collapsed": true,
        "id": "JD4ELYgBRovk"
      },
      "source": [
        "output, hidden_state, cell_state = LSTM(50, return_sequences = True, return_state = True)(Input(shape = (10, 30)))"
      ],
      "execution_count": 37,
      "outputs": []
    },
    {
      "cell_type": "code",
      "metadata": {
        "id": "9Cr78RR6Rovk",
        "colab": {
          "base_uri": "https://localhost:8080/"
        },
        "outputId": "676e3b6d-b679-4e73-e4aa-06f5dac0a9c9"
      },
      "source": [
        "print(output.shape)\n",
        "print(hidden_state.shape)\n",
        "print(cell_state.shape)"
      ],
      "execution_count": 38,
      "outputs": [
        {
          "output_type": "stream",
          "text": [
            "(None, 10, 50)\n",
            "(None, 50)\n",
            "(None, 50)\n"
          ],
          "name": "stdout"
        }
      ]
    },
    {
      "cell_type": "markdown",
      "metadata": {
        "id": "e6ZzgbHZRovk"
      },
      "source": [
        "## 3. GRU\n",
        "<br>\n",
        "<img src=\"https://github.com/DevavratSinghBisht/neural-networks/blob/main/2.RNN/Assets/gru_structure.JPG?raw=true\" style=\"width: 500px\"/>\n",
        "\n",
        "<center> Hidden State </center>\n",
        "\n",
        "- GRU, Popular variant of LSTM, does not have cell state\n",
        "- Hence, it has only hidden state, as simple RNN"
      ]
    },
    {
      "cell_type": "code",
      "metadata": {
        "collapsed": true,
        "id": "3pjqD9UcRovk"
      },
      "source": [
        "gru = GRU(50)(Input(shape = (10, 30)))"
      ],
      "execution_count": 39,
      "outputs": []
    },
    {
      "cell_type": "code",
      "metadata": {
        "id": "VM-CHLPnRovl",
        "colab": {
          "base_uri": "https://localhost:8080/"
        },
        "outputId": "0db0cbfd-8b15-47d4-d778-3c301c4fc3ee"
      },
      "source": [
        "print(gru.shape)"
      ],
      "execution_count": 40,
      "outputs": [
        {
          "output_type": "stream",
          "text": [
            "(None, 50)\n"
          ],
          "name": "stdout"
        }
      ]
    },
    {
      "cell_type": "code",
      "metadata": {
        "id": "azQoH32dRovl",
        "colab": {
          "base_uri": "https://localhost:8080/"
        },
        "outputId": "2ce779c8-09ed-40f5-ebe1-99cf17e6b5e6"
      },
      "source": [
        "gru = GRU(50, return_sequences = False, return_state = True)(Input(shape = (10, 30)))\n",
        "print(gru[0].shape)         # shape of output\n",
        "print(gru[1].shape)         # shape of hidden state"
      ],
      "execution_count": 41,
      "outputs": [
        {
          "output_type": "stream",
          "text": [
            "(None, 50)\n",
            "(None, 50)\n"
          ],
          "name": "stdout"
        }
      ]
    },
    {
      "cell_type": "code",
      "metadata": {
        "id": "v56K_A1zRovl",
        "colab": {
          "base_uri": "https://localhost:8080/"
        },
        "outputId": "c32b0fa7-d8d2-445c-9f89-44bd16600e44"
      },
      "source": [
        "gru = GRU(50, return_sequences = True, return_state = True)(Input(shape = (10, 30)))\n",
        "print(gru[0].shape)         # shape of output\n",
        "print(gru[1].shape)         # shape of hidden state"
      ],
      "execution_count": 42,
      "outputs": [
        {
          "output_type": "stream",
          "text": [
            "(None, 10, 50)\n",
            "(None, 50)\n"
          ],
          "name": "stdout"
        }
      ]
    },
    {
      "cell_type": "code",
      "metadata": {
        "collapsed": true,
        "id": "z2gDa5n5Rovl"
      },
      "source": [
        "output, hidden_state = GRU(50, return_sequences = True, return_state = True)(Input(shape = (10, 30)))"
      ],
      "execution_count": 43,
      "outputs": []
    },
    {
      "cell_type": "code",
      "metadata": {
        "id": "Bmm9s_ZCRovm",
        "colab": {
          "base_uri": "https://localhost:8080/"
        },
        "outputId": "ea7d79df-6da4-456e-9a90-2ca4dd6b7054"
      },
      "source": [
        "print(output.shape)\n",
        "print(hidden_state.shape)"
      ],
      "execution_count": 44,
      "outputs": [
        {
          "output_type": "stream",
          "text": [
            "(None, 10, 50)\n",
            "(None, 50)\n"
          ],
          "name": "stdout"
        }
      ]
    },
    {
      "cell_type": "markdown",
      "metadata": {
        "id": "w81sKhUVCoyD"
      },
      "source": [
        "## LSTM vs GRU\r\n",
        "\r\n",
        "* A GRU is slightly less complex but is approximately as good as an LSTM performance-wise when trained on small amount of data.\r\n",
        "* LSTMs give better results than GRUs when trained on a sufficiently good amount of data.\r\n",
        "---\r\n",
        "GRUs are generally used when you do have long sequence training samples and you want a quick and decent accuracy and maybe in cases where infrastructure is an issue. LSTMs are preferred when sequence lengths are more and some good context is there."
      ]
    },
    {
      "cell_type": "markdown",
      "metadata": {
        "id": "2h0z_kNLA7zk"
      },
      "source": [
        "<img src=\"https://github.com/DevavratSinghBisht/neural-networks/blob/main/2.RNN/Assets/lstm_vs_gru.png?raw=true\" style=\"width: 500px\"/>"
      ]
    },
    {
      "cell_type": "code",
      "metadata": {
        "id": "0Ph5IeoIFmwj"
      },
      "source": [
        ""
      ],
      "execution_count": 44,
      "outputs": []
    }
  ]
}